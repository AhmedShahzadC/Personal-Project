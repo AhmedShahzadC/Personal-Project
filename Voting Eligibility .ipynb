{
 "cells": [
  {
   "cell_type": "code",
   "execution_count": 1,
   "id": "1db960a2",
   "metadata": {},
   "outputs": [
    {
     "name": "stdout",
     "output_type": "stream",
     "text": [
      "Enter Your Name : James\n",
      "Enter Your Age : 17\n",
      "James  age is  17  Not Eligible for Vote.\n"
     ]
    }
   ],
   "source": [
    "name = input(\"Enter Your Name : \")\n",
    "age = int(input(\"Enter Your Age : \"))\n",
    "if age >= 18:\n",
    "    print(name, \" age is \", age, \" Eligible for Vote.\")\n",
    "else:\n",
    "    print(name, \" age is \", age, \" Not Eligible for Vote.\")\n",
    "    "
   ]
  },
  {
   "cell_type": "code",
   "execution_count": 2,
   "id": "a78a9e46",
   "metadata": {},
   "outputs": [
    {
     "name": "stdout",
     "output_type": "stream",
     "text": [
      "Enter Your Name : Tom\n",
      "Enter Your Age : 23\n",
      "Tom  age is  23  Eligible for Vote.\n"
     ]
    }
   ],
   "source": [
    "name = input(\"Enter Your Name : \")\n",
    "age = int(input(\"Enter Your Age : \"))\n",
    "if age >= 18:\n",
    "    print(name, \" age is \", age, \" Eligible for Vote.\")\n",
    "else:\n",
    "    print(name, \" age is \", age, \" Not Eligible for Vote.\")"
   ]
  },
  {
   "cell_type": "code",
   "execution_count": null,
   "id": "f3197926",
   "metadata": {},
   "outputs": [],
   "source": []
  }
 ],
 "metadata": {
  "kernelspec": {
   "display_name": "Python 3 (ipykernel)",
   "language": "python",
   "name": "python3"
  },
  "language_info": {
   "codemirror_mode": {
    "name": "ipython",
    "version": 3
   },
   "file_extension": ".py",
   "mimetype": "text/x-python",
   "name": "python",
   "nbconvert_exporter": "python",
   "pygments_lexer": "ipython3",
   "version": "3.11.2"
  }
 },
 "nbformat": 4,
 "nbformat_minor": 5
}
