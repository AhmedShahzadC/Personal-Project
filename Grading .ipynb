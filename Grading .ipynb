{
 "cells": [
  {
   "cell_type": "code",
   "execution_count": 3,
   "id": "1a6f886f",
   "metadata": {},
   "outputs": [
    {
     "name": "stdout",
     "output_type": "stream",
     "text": [
      "What is your Test Score?55\n",
      "You got a D. But you can do better!\n"
     ]
    }
   ],
   "source": [
    "x= int(input(\"What is your Test Score?\"))\n",
    "if x >=85:\n",
    " print('You got an A! Congratulation!')\n",
    "elif x >=75:\n",
    " print('You got a B! Well Done!')\n",
    "elif x >=65:\n",
    " print('You got a C. Not Great, nor terrible.')\n",
    "elif x >=55:\n",
    " print('You got a D. But you can do better!')\n",
    "else:\n",
    " print ('You did not pass the Test. See the Professor for more information')\n",
    "    \n",
    "\n"
   ]
  },
  {
   "cell_type": "code",
   "execution_count": null,
   "id": "3f91f3e3",
   "metadata": {},
   "outputs": [],
   "source": []
  }
 ],
 "metadata": {
  "kernelspec": {
   "display_name": "Python 3 (ipykernel)",
   "language": "python",
   "name": "python3"
  },
  "language_info": {
   "codemirror_mode": {
    "name": "ipython",
    "version": 3
   },
   "file_extension": ".py",
   "mimetype": "text/x-python",
   "name": "python",
   "nbconvert_exporter": "python",
   "pygments_lexer": "ipython3",
   "version": "3.11.2"
  }
 },
 "nbformat": 4,
 "nbformat_minor": 5
}
